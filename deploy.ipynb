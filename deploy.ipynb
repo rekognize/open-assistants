{
 "cells": [
  {
   "metadata": {
    "ExecuteTime": {
     "end_time": "2024-11-11T12:56:50.369340Z",
     "start_time": "2024-11-11T12:56:50.364812Z"
    }
   },
   "cell_type": "code",
   "source": "!pip install boto3 fabric",
   "id": "a3d1f953204db0b2",
   "outputs": [],
   "execution_count": 12
  },
  {
   "metadata": {
    "ExecuteTime": {
     "end_time": "2024-11-12T18:52:15.160398Z",
     "start_time": "2024-11-12T18:52:15.155965Z"
    }
   },
   "cell_type": "code",
   "source": [
    "# Project settings\n",
    "\n",
    "PROJECT_NAME = \"OpenAssistants\"\n",
    "\n",
    "DOMAIN_NAME = \"openassistants.io\"\n",
    "\n",
    "ENVIRONMENTS = {\n",
    "    'dev': {\n",
    "        'repo': {\n",
    "            'url': \"https://github.com/rekognize/open-assistants-private\",\n",
    "            'branch': \"dev\",\n",
    "        },\n",
    "        'domain': f\"test.{DOMAIN_NAME}\",\n",
    "    },\n",
    "    'prod': {\n",
    "        'source': (\"https://github.com/rekognize/open-assistants-private\", \"main\"),\n",
    "        'domain': DOMAIN_NAME,\n",
    "    },\n",
    "    'public': {\n",
    "        'source': (\"https://github.com/rekognize/open-assistants\", \"main\"),\n",
    "        'domain': f\"public.{DOMAIN_NAME}\",\n",
    "    }\n",
    "}\n",
    "\n",
    "\n",
    "# Instance settings\n",
    "\n",
    "SECURITY_GROUP_NAME = f\"{PROJECT_NAME}-sg\"\n",
    "AMI_ID = \"ami-0866a3c8686eaeeba\" # Ubuntu Server 24.04 LTS\n",
    "INSTANCE_TYPE = \"t3.micro\"\n",
    "EBS_VOLUME_SIZE = 16  # GB\n",
    "REGION = \"us-east-1\"\n",
    "EC2_USER = \"ubuntu\"\n",
    "\n"
   ],
   "id": "e75849850d83ec28",
   "outputs": [],
   "execution_count": 85
  },
  {
   "metadata": {
    "ExecuteTime": {
     "end_time": "2024-11-11T19:00:10.880328Z",
     "start_time": "2024-11-11T19:00:10.877045Z"
    }
   },
   "cell_type": "code",
   "source": [
    "# overrides for simplicity\n",
    "\n",
    "DOMAIN_NAME = \"test.openassistants.io\"\n"
   ],
   "id": "639d2b502a59e2e1",
   "outputs": [],
   "execution_count": 38
  },
  {
   "metadata": {
    "ExecuteTime": {
     "end_time": "2024-11-13T04:12:15.892912Z",
     "start_time": "2024-11-13T04:12:15.862103Z"
    }
   },
   "cell_type": "code",
   "source": [
    "import os\n",
    "import boto3\n",
    "from botocore.exceptions import ClientError\n",
    "from dotenv import load_dotenv\n",
    "\n",
    "load_dotenv()\n",
    "\n",
    "s3_client = boto3.client('s3', region_name=REGION)\n",
    "\n",
    "ec2_client = boto3.client('ec2', region_name=REGION)\n",
    "ec2_resource = boto3.resource('ec2', region_name=REGION)\n",
    "\n",
    "ENVIRONMENT = 'dev'"
   ],
   "id": "976c5dd1744432f9",
   "outputs": [],
   "execution_count": 97
  },
  {
   "metadata": {},
   "cell_type": "code",
   "source": [
    "# Create the S3 bucket\n",
    "\n",
    "BUCKET_NAME = f'{PROJECT_NAME}-{ENVIRONMENT}'.lower()\n",
    "\n",
    "s3_client.create_bucket(Bucket=BUCKET_NAME)"
   ],
   "id": "c993f83b278adcad",
   "outputs": [],
   "execution_count": null
  },
  {
   "metadata": {},
   "cell_type": "code",
   "source": [
    "# Create the EC2 instance\n",
    "\n",
    "import os\n",
    "\n",
    "# Create the key pair\n",
    "\n",
    "key_name = f\"{PROJECT_NAME}-key\"\n",
    "key_path = os.path.expanduser(f\"~/.ssh/{key_name}.pem\")\n",
    "\n",
    "try:\n",
    "    key_pair = ec2_client.create_key_pair(KeyName=key_name)\n",
    "except ClientError as e:\n",
    "    if e.response['Error']['Code'] == \"InvalidKeyPair.Duplicate\":\n",
    "        print(f\"{key_name} already exists.\")\n",
    "    else:\n",
    "        raise\n",
    "else:\n",
    "    with open(key_path, \"w\") as file:\n",
    "        file.write(key_pair[\"KeyMaterial\"])\n",
    "    os.chmod(key_path, 0o400)\n",
    "\n",
    "\n",
    "# Create and authorize the security group\n",
    "\n",
    "try:\n",
    "    response = ec2_client.create_security_group(\n",
    "        GroupName=SECURITY_GROUP_NAME,\n",
    "        Description=\"Security group for my project\",\n",
    "    )\n",
    "except ClientError as e:\n",
    "    if e.response['Error']['Code'] == \"InvalidGroup.Duplicate\":\n",
    "        response = ec2_client.describe_security_groups(GroupNames=[SECURITY_GROUP_NAME])\n",
    "        security_group_id = response['SecurityGroups'][0]['GroupId']\n",
    "    else:\n",
    "        raise e\n",
    "else:\n",
    "    security_group_id = response[\"GroupId\"]\n",
    "    ec2_client.authorize_security_group_ingress(\n",
    "        GroupId=security_group_id,\n",
    "        IpPermissions=[\n",
    "            {'IpProtocol': 'tcp', 'FromPort': 22, 'ToPort': 22,\n",
    "             'IpRanges': [{'CidrIp': '0.0.0.0/0'}]},\n",
    "            {'IpProtocol': 'tcp', 'FromPort': 80, 'ToPort': 80,\n",
    "             'IpRanges': [{'CidrIp': '0.0.0.0/0'}]},\n",
    "            {'IpProtocol': 'tcp', 'FromPort': 443, 'ToPort': 443,\n",
    "             'IpRanges': [{'CidrIp': '0.0.0.0/0'}]},\n",
    "        ]\n",
    "    )\n",
    "\n",
    "print(\"Launching EC2 instance...\")\n",
    "response = ec2_client.run_instances(\n",
    "    ImageId=AMI_ID,\n",
    "    InstanceType=INSTANCE_TYPE,\n",
    "    KeyName=key_name,\n",
    "    SecurityGroupIds=[security_group_id],\n",
    "    MinCount=1,\n",
    "    MaxCount=1,\n",
    "    BlockDeviceMappings=[\n",
    "        {\n",
    "            \"DeviceName\": \"/dev/sda1\",\n",
    "            \"Ebs\": {\n",
    "                \"VolumeSize\": EBS_VOLUME_SIZE,\n",
    "                \"DeleteOnTermination\": True,\n",
    "                \"VolumeType\": \"gp3\"  # General Purpose SSD (gp3)\n",
    "            },\n",
    "        },\n",
    "    ],\n",
    "    TagSpecifications=[\n",
    "        {\n",
    "            \"ResourceType\": \"instance\",\n",
    "            \"Tags\": [\n",
    "                {\n",
    "                    \"Key\": \"Name\",\n",
    "                    \"Value\": PROJECT_NAME\n",
    "                }\n",
    "            ]\n",
    "        }\n",
    "    ]\n",
    ")\n",
    "\n",
    "# Get the instance ID of the newly created instance\n",
    "instance_id = response[\"Instances\"][0][\"InstanceId\"]\n",
    "print(\"EC2 instance created with Instance ID:\", instance_id)\n",
    "\n",
    "# Wait for the instance to reach running state and retrieve the public IP and DNS\n",
    "instance = ec2_resource.Instance(instance_id)\n",
    "\n",
    "print(\"Waiting for the instance to enter 'running' state...\")\n",
    "instance.wait_until_running()\n",
    "instance.reload()  # Refresh instance attributes\n",
    "\n",
    "# Get the public IP and DNS for SSH\n",
    "print(\"Instance is ready for SSH access.\")\n",
    "print(\"Public IP:\", instance.public_ip_address)\n",
    "print(\"Public DNS:\", instance.public_dns_name)\n",
    "print(\"Use the following command to SSH into the instance:\")\n",
    "print(f\"ssh -i {key_path} ubuntu@{instance.public_ip_address}\")"
   ],
   "id": "3d9cf227484c6d54",
   "outputs": [],
   "execution_count": null
  },
  {
   "metadata": {
    "ExecuteTime": {
     "end_time": "2024-11-13T12:27:35.420061Z",
     "start_time": "2024-11-13T12:27:35.409852Z"
    }
   },
   "cell_type": "code",
   "source": [
    "# Setup the EC2 instance with Fabric\n",
    "from fabric import Connection\n",
    "\n",
    "c = Connection(\n",
    "    host=instance.public_ip_address, \n",
    "    user=\"ubuntu\", \n",
    "    connect_kwargs={\"key_filename\": key_path},\n",
    ")\n"
   ],
   "id": "c29a742185a68c11",
   "outputs": [],
   "execution_count": 132
  },
  {
   "metadata": {},
   "cell_type": "code",
   "source": [
    "c.run(\"sudo apt update\")\n",
    "c.run(\"sudo apt upgrade -y\")\n",
    "c.run(\"sudo apt install -y python3-pip python3-venv nginx git supervisor\")"
   ],
   "id": "eece93d13158f08a",
   "outputs": [],
   "execution_count": null
  },
  {
   "metadata": {},
   "cell_type": "code",
   "source": [
    "# Create and install the Github deploy key\n",
    "\n",
    "import requests\n",
    "from urllib.parse import urlparse\n",
    "\n",
    "# Generate the deploy key with the repo name\n",
    "\n",
    "deploy_key_path = f'/home/ubuntu/.ssh/{ENVIRONMENTS[ENVIRONMENT]['repo']['url'].split('/')[-1]}_deploy_key'\n",
    "c.run(f'ssh-keygen -t rsa -b 2048 -f {deploy_key_path} -N \"\"')\n",
    "\n",
    "\n",
    "# Install the key\n",
    "github_token = os.getenv('GITHUB_TOKEN')  # GitHub token with repo access\n",
    "public_key = c.run(f\"cat {deploy_key_path}.pub\").stdout.strip()\n",
    "\n",
    "parsed_url = urlparse(ENVIRONMENTS[ENVIRONMENT]['repo']['url'])\n",
    "repo_path = parsed_url.path.strip(\"/\")\n",
    "url = f\"https://api.github.com/repos/{repo_path}/keys\"\n",
    "\n",
    "response = requests.post(\n",
    "    url, \n",
    "    headers={\n",
    "        \"Authorization\": f\"token {github_token}\",\n",
    "        \"Accept\": \"application/vnd.github.v3+json\"\n",
    "    }, \n",
    "    json={\n",
    "        \"title\": f\"{PROJECT_NAME} Deploy Key\",\n",
    "        \"key\": public_key,\n",
    "        \"read_only\": True\n",
    "    }\n",
    ")\n"
   ],
   "id": "8d79e9d9d00b0bf5",
   "outputs": [],
   "execution_count": null
  },
  {
   "metadata": {},
   "cell_type": "code",
   "outputs": [],
   "execution_count": null,
   "source": "",
   "id": "339a760ef7611939"
  },
  {
   "metadata": {},
   "cell_type": "code",
   "outputs": [],
   "execution_count": null,
   "source": [
    "# Server configuration\n",
    "\n",
    "ENVIRONMENT_NAME = \"dev\"\n",
    "\n",
    "project_dir = f\"/home/ubuntu/{PROJECT_NAME}-{ENVIRONMENT_NAME}\"\n",
    "\n",
    "# SSH URL for GitHub, using SSH key authentication\n",
    "c.run(f\"GIT_SSH_COMMAND='ssh -i {deploy_key_path} -o StrictHostKeyChecking=no' git clone -b {ENVIRONMENTS[ENVIRONMENT_NAME]['repo']['branch']} git@github.com:{repo_path}.git {project_dir}\")\n",
    "\n",
    "c.run(f\"cd {project_dir} && python3 -m venv venv && source venv/bin/activate && pip install -r requirements.txt\")\n"
   ],
   "id": "21dd7a91eaabd1b8"
  },
  {
   "metadata": {},
   "cell_type": "code",
   "source": [
    "# Copy the .env file for the environment\n",
    "c.put(f\".env-{ENVIRONMENT_NAME}\", os.path.join(f\"{project_dir}\", \".env\"))"
   ],
   "id": "587bb67ec591323d",
   "outputs": [],
   "execution_count": null
  },
  {
   "metadata": {},
   "cell_type": "code",
   "outputs": [],
   "execution_count": null,
   "source": [
    "# Django migration\n",
    "c.run(f\"cd {project_dir} && source venv/bin/activate && python manage.py migrate\")"
   ],
   "id": "416625ad3c2ae6f9"
  },
  {
   "metadata": {},
   "cell_type": "code",
   "outputs": [],
   "execution_count": null,
   "source": [
    "# Collect static\n",
    "# !!! re-run after setting STATIC_ROOT setting\n",
    "c.run(f\"cd {project_dir} && source venv/bin/activate && python manage.py collectstatic --noinput\")"
   ],
   "id": "4e3c9e55c2e5ccb5"
  },
  {
   "metadata": {},
   "cell_type": "code",
   "outputs": [],
   "execution_count": null,
   "source": [
    "# Create superuser\n",
    "superuser_name = f\"{PROJECT_NAME}-admin\"\n",
    "superuser_email = f\"admin@{DOMAIN_NAME}\"\n",
    "superuser_password = f\"{PROJECT_NAME}-321*\"\n",
    "\n",
    "# Command to create superuser non-interactively (createsuperuser does not have non-interactive mode)\n",
    "create_superuser_script = f\"\"\"\n",
    "from django.contrib.auth import get_user_model\n",
    "\n",
    "User = get_user_model()\n",
    "if not User.objects.filter(username='{superuser_name}').exists():\n",
    "    User.objects.create_superuser('{superuser_name}', '{superuser_email}', '{superuser_password}')\n",
    "\"\"\"\n",
    "\n",
    "# Run the Django shell command to create the superuser\n",
    "c.run(f\"cd {project_dir} && source venv/bin/activate && echo \\\"{create_superuser_script}\\\" | python manage.py shell\")\n"
   ],
   "id": "579a7c02c1582869"
  },
  {
   "metadata": {},
   "cell_type": "code",
   "source": "",
   "id": "ae84cf3dee2688d9",
   "outputs": [],
   "execution_count": null
  }
 ],
 "metadata": {
  "kernelspec": {
   "display_name": "Python 3",
   "language": "python",
   "name": "python3"
  },
  "language_info": {
   "codemirror_mode": {
    "name": "ipython",
    "version": 2
   },
   "file_extension": ".py",
   "mimetype": "text/x-python",
   "name": "python",
   "nbconvert_exporter": "python",
   "pygments_lexer": "ipython2",
   "version": "2.7.6"
  }
 },
 "nbformat": 4,
 "nbformat_minor": 5
}
